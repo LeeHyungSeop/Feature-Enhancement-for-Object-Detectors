{
 "cells": [
  {
   "cell_type": "markdown",
   "metadata": {},
   "source": [
    "# Save baseline log to pickle file"
   ]
  },
  {
   "cell_type": "code",
   "execution_count": 3,
   "metadata": {},
   "outputs": [],
   "source": [
    "# save list to pickle file\n",
    "import pickle\n",
    "\n",
    "# create a list\n",
    "baseline_loss =     [1.0495, 0.7384, 0.6668, 0.6388, 0.6047, 0.5853, 0.5717, 0.5595, 0.5519, 0.5435, 0.5362, 0.5304, 0.5237, 0.5177, 0.5132, 0.5083, 0.4053, 0.3829, 0.3722, 0.3636, 0.3561, 0.3495, 0.3336, 0.3313, 0.3300, 0.3288]\n",
    "baseline_reg_loss = [0.3998, 0.3200, 0.2977, 0.2873, 0.2769, 0.2703, 0.2654, 0.2611, 0.2581, 0.2549, 0.2524, 0.2500, 0.2481, 0.2461, 0.2443, 0.2427, 0.2078, 0.1992, 0.1950, 0.1915, 0.1886, 0.1859, 0.1797, 0.1787, 0.1782, 0.1777]\n",
    "baseline_cls_loss = [0.6497, 0.4184, 0.3690, 0.3515, 0.3279, 0.3150, 0.3063, 0.2984, 0.2938, 0.2885, 0.2838, 0.2804, 0.2756, 0.2716, 0.2689, 0.2656, 0.1974, 0.1837, 0.1772, 0.1721, 0.1675, 0.1636, 0.1539, 0.1526, 0.1518, 0.1511]\n",
    "\n",
    "baseline_small_AP =  [0.068, 0.085, 0.117, 0.124, 0.135, 0.141, 0.141, 0.143, 0.156, 0.142, 0.150, 0.155, 0.163, 0.156, 0.159, 0.158, 0.191, 0.193, 0.194, 0.194, 0.193, 0.192, 0.193, 0.193, 0.193, 0.193]\n",
    "baseline_medium_AP = [0.149, 0.199, 0.255, 0.259, 0.286, 0.302, 0.290, 0.307, 0.321, 0.314, 0.320, 0.325, 0.330, 0.316, 0.327, 0.322, 0.394, 0.396, 0.398, 0.402, 0.395, 0.399, 0.401, 0.401, 0.401, 0.402]\n",
    "baseline_large_AP =  [0.156, 0.231, 0.297, 0.314, 0.340, 0.355, 0.341, 0.359, 0.372, 0.365, 0.377, 0.391, 0.392, 0.375, 0.394, 0.397, 0.476, 0.476, 0.479, 0.484, 0.485, 0.479, 0.485, 0.485, 0.486, 0.487]\n",
    "\n",
    "# save list to pickle file\n",
    "with open('baseline_loss.pkl', 'wb') as f:\n",
    "    pickle.dump(baseline_loss, f)\n",
    "with open('baseline_reg_loss.pkl', 'wb') as f:\n",
    "    pickle.dump(baseline_reg_loss, f)\n",
    "with open('baseline_cls_loss.pkl', 'wb') as f:\n",
    "    pickle.dump(baseline_cls_loss, f)\n",
    "with open('baseline_small_AP.pkl', 'wb') as f:\n",
    "    pickle.dump(baseline_small_AP, f)\n",
    "with open('baseline_medium_AP.pkl', 'wb') as f:\n",
    "    pickle.dump(baseline_medium_AP, f)\n",
    "with open('baseline_large_AP.pkl', 'wb') as f:\n",
    "    pickle.dump(baseline_large_AP, f)\n",
    "    "
   ]
  },
  {
   "cell_type": "markdown",
   "metadata": {},
   "source": [
    "# Save COG log to pickle file"
   ]
  },
  {
   "cell_type": "code",
   "execution_count": 1,
   "metadata": {},
   "outputs": [],
   "source": [
    "# save list to pickle file\n",
    "import pickle\n",
    "\n",
    "# create a list\n",
    "cog_loss =     [1.0017, 0.7258, 0.6604, 0.6320, 0.6045, 0.5848, 0.5704, 0.5604, 0.5520, 0.5443, 0.5391, 0.5295, 0.5250, 0.5205, 0.5139, 0.5100, 0.4054]\n",
    "cog_reg_loss = [0.3964, 0.3200, 0.2988, 0.2878, 0.2785, 0.2721, 0.2668, 0.2630, 0.2597, 0.2567, 0.2545, 0.2516, 0.2499, 0.2482, 0.2460, 0.2446, 0.2088]\n",
    "cog_cls_loss = [0.6053, 0.4058, 0.3617, 0.3442, 0.3260, 0.3127, 0.3036, 0.2974, 0.2923, 0.2876, 0.2846, 0.2779, 0.2751, 0.2723, 0.2678, 0.2654, 0.1966]\n",
    "\n",
    "cog_small_AP =  [0.073, 0.102, 0.119, 0.114, 0.124, 0.134, 0.139, 0.139, 0.149, 0.141, 0.151, 0.158, 0.155, 0.153, 0.148, 0.150, 0.185]\n",
    "cog_medium_AP = [0.161, 0.229, 0.262, 0.247, 0.281, 0.299, 0.301, 0.306, 0.321, 0.305, 0.321, 0.330, 0.325, 0.328, 0.317, 0.319, 0.393]\n",
    "cog_large_AP =  [0.170, 0.259, 0.299, 0.305, 0.341, 0.362, 0.354, 0.353, 0.369, 0.367, 0.379, 0.393, 0.391, 0.388, 0.390, 0.397, 0.478]\n",
    "\n",
    "# save list to pickle file\n",
    "with open('cog_loss.pkl', 'wb') as f:\n",
    "    pickle.dump(cog_loss, f)\n",
    "with open('cog_reg_loss.pkl', 'wb') as f:\n",
    "    pickle.dump(cog_reg_loss, f)\n",
    "with open('cog_cls_loss.pkl', 'wb') as f:\n",
    "    pickle.dump(cog_cls_loss, f)\n",
    "with open('cog_small_AP.pkl', 'wb') as f:\n",
    "    pickle.dump(cog_small_AP, f)\n",
    "with open('cog_medium_AP.pkl', 'wb') as f:\n",
    "    pickle.dump(cog_medium_AP, f)\n",
    "with open('cog_large_AP.pkl', 'wb') as f:\n",
    "    pickle.dump(cog_large_AP, f)\n",
    "    "
   ]
  },
  {
   "cell_type": "markdown",
   "metadata": {},
   "source": [
    "# Save Regularization log to pickle file"
   ]
  },
  {
   "cell_type": "code",
   "execution_count": 3,
   "metadata": {},
   "outputs": [],
   "source": [
    "# save list to pickle file\n",
    "import pickle\n",
    "\n",
    "# create a list\n",
    "reg_loss =     [0.9857, 0.7222, 0.6577, 0.6255, 0.5969, 0.5803, 0.5675, 0.5537, 0.5454, 0.5391, 0.5307, 0.5265, 0.5196, 0.5139, 0.5092, 0.5065, 0.4019, 0.3797, 0.3685, 0.3600, 0.3525, 0.3457, 0.3297, 0.3273, 0.3260, 0.3249]\n",
    "reg_reg_loss = [0.3893, 0.3169, 0.2957, 0.2835, 0.2751, 0.2689, 0.2642, 0.2601, 0.2567, 0.2541, 0.2513, 0.2495, 0.2472, 0.2454, 0.2435, 0.2424, 0.2071, 0.1985, 0.1940, 0.1906, 0.1876, 0.1848, 0.1785, 0.1775, 0.1769, 0.1765]\n",
    "reg_cls_loss = [0.5964, 0.4053, 0.3619, 0.3390, 0.3219, 0.3114, 0.3032, 0.2936, 0.2887, 0.2850, 0.2794, 0.2770, 0.2724, 0.2685, 0.2657, 0.2641, 0.1948, 0.1812, 0.1745, 0.1694, 0.1650, 0.1608, 0.1512, 0.1498, 0.1491, 0.1484]\n",
    "\n",
    "reg_small_AP =  [0.069, 0.104, 0.123, 0.125, 0.136, 0.138, 0.147, 0.150, 0.154, 0.154, 0.162, 0.154, 0.167, 0.166, 0.162, 0.157, 0.195, 0.202, 0.199, 0.203, 0.200, 0.198, 0.200, 0.199, 0.199, 0.198]\n",
    "reg_medium_AP = [0.164, 0.229, 0.264, 0.257, 0.292, 0.303, 0.286, 0.300, 0.313, 0.320, 0.327, 0.328, 0.332, 0.331, 0.328, 0.319, 0.390, 0.392, 0.392, 0.394, 0.393, 0.393, 0.396, 0.396, 0.396, 0.396]\n",
    "reg_large_AP =  [0.170, 0.239, 0.305, 0.307, 0.349, 0.359, 0.324, 0.343, 0.355, 0.377, 0.380, 0.391, 0.392, 0.394, 0.400, 0.389, 0.480, 0.487, 0.489, 0.497, 0.492, 0.492, 0.496, 0.495, 0.494, 0.497]\n",
    "\n",
    "# save list to pickle file\n",
    "with open('reg_loss.pkl', 'wb') as f:\n",
    "    pickle.dump(reg_loss, f)\n",
    "with open('reg_reg_loss.pkl', 'wb') as f:\n",
    "    pickle.dump(reg_reg_loss, f)\n",
    "with open('reg_cls_loss.pkl', 'wb') as f:\n",
    "    pickle.dump(reg_cls_loss, f)\n",
    "with open('reg_small_AP.pkl', 'wb') as f:\n",
    "    pickle.dump(reg_small_AP, f)\n",
    "with open('reg_medium_AP.pkl', 'wb') as f:\n",
    "    pickle.dump(reg_medium_AP, f)\n",
    "with open('reg_large_AP.pkl', 'wb') as f:\n",
    "    pickle.dump(reg_large_AP, f)\n",
    "    "
   ]
  },
  {
   "cell_type": "code",
   "execution_count": null,
   "metadata": {},
   "outputs": [],
   "source": []
  }
 ],
 "metadata": {
  "kernelspec": {
   "display_name": "base",
   "language": "python",
   "name": "python3"
  },
  "language_info": {
   "codemirror_mode": {
    "name": "ipython",
    "version": 3
   },
   "file_extension": ".py",
   "mimetype": "text/x-python",
   "name": "python",
   "nbconvert_exporter": "python",
   "pygments_lexer": "ipython3",
   "version": "3.11.9"
  }
 },
 "nbformat": 4,
 "nbformat_minor": 2
}
