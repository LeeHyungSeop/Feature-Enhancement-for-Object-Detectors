{
 "cells": [
  {
   "cell_type": "code",
   "execution_count": 16,
   "metadata": {},
   "outputs": [
    {
     "name": "stdout",
     "output_type": "stream",
     "text": [
      "Requirement already satisfied: grad-cam in /home/hslee/anaconda3/envs/DL/lib/python3.11/site-packages (1.5.3)\n",
      "Requirement already satisfied: numpy in /home/hslee/anaconda3/envs/DL/lib/python3.11/site-packages (from grad-cam) (1.26.4)\n",
      "Requirement already satisfied: Pillow in /home/hslee/anaconda3/envs/DL/lib/python3.11/site-packages (from grad-cam) (10.3.0)\n",
      "Requirement already satisfied: torch>=1.7.1 in /home/hslee/anaconda3/envs/DL/lib/python3.11/site-packages (from grad-cam) (2.0.1)\n",
      "Requirement already satisfied: torchvision>=0.8.2 in /home/hslee/anaconda3/envs/DL/lib/python3.11/site-packages (from grad-cam) (0.15.2)\n",
      "Requirement already satisfied: ttach in /home/hslee/anaconda3/envs/DL/lib/python3.11/site-packages (from grad-cam) (0.0.3)\n",
      "Requirement already satisfied: tqdm in /home/hslee/anaconda3/envs/DL/lib/python3.11/site-packages (from grad-cam) (4.66.1)\n",
      "Requirement already satisfied: opencv-python in /home/hslee/anaconda3/envs/DL/lib/python3.11/site-packages (from grad-cam) (4.9.0)\n",
      "Requirement already satisfied: matplotlib in /home/hslee/anaconda3/envs/DL/lib/python3.11/site-packages (from grad-cam) (3.8.4)\n",
      "Requirement already satisfied: scikit-learn in /home/hslee/anaconda3/envs/DL/lib/python3.11/site-packages (from grad-cam) (1.5.1)\n",
      "Requirement already satisfied: filelock in /home/hslee/anaconda3/envs/DL/lib/python3.11/site-packages (from torch>=1.7.1->grad-cam) (3.14.0)\n",
      "Requirement already satisfied: typing-extensions in /home/hslee/.local/lib/python3.11/site-packages (from torch>=1.7.1->grad-cam) (4.12.2)\n",
      "Requirement already satisfied: sympy in /home/hslee/anaconda3/envs/DL/lib/python3.11/site-packages (from torch>=1.7.1->grad-cam) (1.12)\n",
      "Requirement already satisfied: networkx in /home/hslee/anaconda3/envs/DL/lib/python3.11/site-packages (from torch>=1.7.1->grad-cam) (3.3)\n",
      "Requirement already satisfied: jinja2 in /home/hslee/anaconda3/envs/DL/lib/python3.11/site-packages (from torch>=1.7.1->grad-cam) (3.1.4)\n",
      "Requirement already satisfied: nvidia-cuda-nvrtc-cu11==11.7.99 in /home/hslee/anaconda3/envs/DL/lib/python3.11/site-packages (from torch>=1.7.1->grad-cam) (11.7.99)\n",
      "Requirement already satisfied: nvidia-cuda-runtime-cu11==11.7.99 in /home/hslee/anaconda3/envs/DL/lib/python3.11/site-packages (from torch>=1.7.1->grad-cam) (11.7.99)\n",
      "Requirement already satisfied: nvidia-cuda-cupti-cu11==11.7.101 in /home/hslee/anaconda3/envs/DL/lib/python3.11/site-packages (from torch>=1.7.1->grad-cam) (11.7.101)\n",
      "Requirement already satisfied: nvidia-cudnn-cu11==8.5.0.96 in /home/hslee/anaconda3/envs/DL/lib/python3.11/site-packages (from torch>=1.7.1->grad-cam) (8.5.0.96)\n",
      "Requirement already satisfied: nvidia-cublas-cu11==11.10.3.66 in /home/hslee/anaconda3/envs/DL/lib/python3.11/site-packages (from torch>=1.7.1->grad-cam) (11.10.3.66)\n",
      "Requirement already satisfied: nvidia-cufft-cu11==10.9.0.58 in /home/hslee/anaconda3/envs/DL/lib/python3.11/site-packages (from torch>=1.7.1->grad-cam) (10.9.0.58)\n",
      "Requirement already satisfied: nvidia-curand-cu11==10.2.10.91 in /home/hslee/anaconda3/envs/DL/lib/python3.11/site-packages (from torch>=1.7.1->grad-cam) (10.2.10.91)\n",
      "Requirement already satisfied: nvidia-cusolver-cu11==11.4.0.1 in /home/hslee/anaconda3/envs/DL/lib/python3.11/site-packages (from torch>=1.7.1->grad-cam) (11.4.0.1)\n",
      "Requirement already satisfied: nvidia-cusparse-cu11==11.7.4.91 in /home/hslee/anaconda3/envs/DL/lib/python3.11/site-packages (from torch>=1.7.1->grad-cam) (11.7.4.91)\n",
      "Requirement already satisfied: nvidia-nccl-cu11==2.14.3 in /home/hslee/anaconda3/envs/DL/lib/python3.11/site-packages (from torch>=1.7.1->grad-cam) (2.14.3)\n",
      "Requirement already satisfied: nvidia-nvtx-cu11==11.7.91 in /home/hslee/anaconda3/envs/DL/lib/python3.11/site-packages (from torch>=1.7.1->grad-cam) (11.7.91)\n",
      "Requirement already satisfied: triton==2.0.0 in /home/hslee/anaconda3/envs/DL/lib/python3.11/site-packages (from torch>=1.7.1->grad-cam) (2.0.0)\n",
      "Requirement already satisfied: setuptools in /home/hslee/anaconda3/envs/DL/lib/python3.11/site-packages (from nvidia-cublas-cu11==11.10.3.66->torch>=1.7.1->grad-cam) (70.0.0)\n",
      "Requirement already satisfied: wheel in /home/hslee/anaconda3/envs/DL/lib/python3.11/site-packages (from nvidia-cublas-cu11==11.10.3.66->torch>=1.7.1->grad-cam) (0.43.0)\n",
      "Requirement already satisfied: cmake in /home/hslee/anaconda3/envs/DL/lib/python3.11/site-packages (from triton==2.0.0->torch>=1.7.1->grad-cam) (3.29.3)\n",
      "Requirement already satisfied: lit in /home/hslee/anaconda3/envs/DL/lib/python3.11/site-packages (from triton==2.0.0->torch>=1.7.1->grad-cam) (18.1.6)\n",
      "Requirement already satisfied: requests in /home/hslee/anaconda3/envs/DL/lib/python3.11/site-packages (from torchvision>=0.8.2->grad-cam) (2.32.3)\n",
      "Requirement already satisfied: contourpy>=1.0.1 in /home/hslee/anaconda3/envs/DL/lib/python3.11/site-packages (from matplotlib->grad-cam) (1.2.1)\n",
      "Requirement already satisfied: cycler>=0.10 in /home/hslee/anaconda3/envs/DL/lib/python3.11/site-packages (from matplotlib->grad-cam) (0.11.0)\n",
      "Requirement already satisfied: fonttools>=4.22.0 in /home/hslee/anaconda3/envs/DL/lib/python3.11/site-packages (from matplotlib->grad-cam) (4.25.0)\n",
      "Requirement already satisfied: kiwisolver>=1.3.1 in /home/hslee/anaconda3/envs/DL/lib/python3.11/site-packages (from matplotlib->grad-cam) (1.4.5)\n",
      "Requirement already satisfied: packaging>=20.0 in /home/hslee/.local/lib/python3.11/site-packages (from matplotlib->grad-cam) (24.1)\n",
      "Requirement already satisfied: pyparsing>=2.3.1 in /home/hslee/anaconda3/envs/DL/lib/python3.11/site-packages (from matplotlib->grad-cam) (3.1.2)\n",
      "Requirement already satisfied: python-dateutil>=2.7 in /home/hslee/.local/lib/python3.11/site-packages (from matplotlib->grad-cam) (2.9.0.post0)\n",
      "Requirement already satisfied: scipy>=1.6.0 in /home/hslee/anaconda3/envs/DL/lib/python3.11/site-packages (from scikit-learn->grad-cam) (1.13.1)\n",
      "Requirement already satisfied: joblib>=1.2.0 in /home/hslee/anaconda3/envs/DL/lib/python3.11/site-packages (from scikit-learn->grad-cam) (1.4.2)\n",
      "Requirement already satisfied: threadpoolctl>=3.1.0 in /home/hslee/anaconda3/envs/DL/lib/python3.11/site-packages (from scikit-learn->grad-cam) (3.5.0)\n",
      "Requirement already satisfied: six>=1.5 in /home/hslee/.local/lib/python3.11/site-packages (from python-dateutil>=2.7->matplotlib->grad-cam) (1.16.0)\n",
      "Requirement already satisfied: MarkupSafe>=2.0 in /home/hslee/anaconda3/envs/DL/lib/python3.11/site-packages (from jinja2->torch>=1.7.1->grad-cam) (2.1.5)\n",
      "Requirement already satisfied: charset-normalizer<4,>=2 in /home/hslee/anaconda3/envs/DL/lib/python3.11/site-packages (from requests->torchvision>=0.8.2->grad-cam) (2.0.4)\n",
      "Requirement already satisfied: idna<4,>=2.5 in /home/hslee/anaconda3/envs/DL/lib/python3.11/site-packages (from requests->torchvision>=0.8.2->grad-cam) (3.7)\n",
      "Requirement already satisfied: urllib3<3,>=1.21.1 in /home/hslee/anaconda3/envs/DL/lib/python3.11/site-packages (from requests->torchvision>=0.8.2->grad-cam) (2.2.1)\n",
      "Requirement already satisfied: certifi>=2017.4.17 in /home/hslee/anaconda3/envs/DL/lib/python3.11/site-packages (from requests->torchvision>=0.8.2->grad-cam) (2024.2.2)\n",
      "Requirement already satisfied: mpmath>=0.19 in /home/hslee/anaconda3/envs/DL/lib/python3.11/site-packages (from sympy->torch>=1.7.1->grad-cam) (1.3.0)\n"
     ]
    }
   ],
   "source": [
    "!pip install grad-cam"
   ]
  },
  {
   "cell_type": "code",
   "execution_count": 17,
   "metadata": {},
   "outputs": [
    {
     "name": "stdout",
     "output_type": "stream",
     "text": [
      "return_layers: {'layer2': '0', 'layer3': '1', 'layer4': '2'}\n",
      "extra_blocks: LastLevelP6P7(\n",
      "  (p6): Conv2d(256, 256, kernel_size=(3, 3), stride=(2, 2), padding=(1, 1))\n",
      "  (p7): Conv2d(256, 256, kernel_size=(3, 3), stride=(2, 2), padding=(1, 1))\n",
      ")\n",
      "[{'boxes': tensor([], size=(0, 4), grad_fn=<StackBackward0>), 'scores': tensor([], grad_fn=<IndexBackward0>), 'labels': tensor([], dtype=torch.int64)}]\n"
     ]
    }
   ],
   "source": [
    "import warnings\n",
    "warnings.filterwarnings('ignore')\n",
    "warnings.simplefilter('ignore')\n",
    "import torch    \n",
    "import cv2\n",
    "import numpy as np\n",
    "import requests\n",
    "import torchvision.transforms as transforms\n",
    "from pytorch_grad_cam import EigenCAM\n",
    "from pytorch_grad_cam.utils.image import show_cam_on_image, scale_cam_image\n",
    "from PIL import Image\n",
    "\n",
    "from models.retinanet import my_retinanet_resnet50_fpn\n",
    "\n",
    "\n",
    "\n",
    "\n",
    "\n",
    "COLORS = np.random.uniform(0, 255, size=(80, 3))\n",
    "\n",
    "\n",
    "image_url = \"http://farm1.staticflickr.com/180/460801098_5c15f591db_z.jpg\"\n",
    "img = np.array(Image.open(requests.get(image_url, stream=True).raw))\n",
    "img = cv2.resize(img, (640, 640))\n",
    "rgb_img = img.copy()\n",
    "img = np.float32(img) / 255\n",
    "transform = transforms.ToTensor()\n",
    "tensor = transform(img).unsqueeze(0)\n",
    "\n",
    "# customized model\n",
    "model = my_retinanet_resnet50_fpn()\n",
    "model.eval()\n",
    "model.cpu()\n",
    "\n",
    "s3 = model.backbone.body.layer2[3].conv3\n",
    "s4 = model.backbone.body.layer3[5].conv3\n",
    "s5 = model.backbone.body.layer4[2].conv3\n",
    "target_layers = [s3, s4, s5]\n",
    "\n",
    "results = model(tensor)\n",
    "print(results)"
   ]
  },
  {
   "cell_type": "code",
   "execution_count": 18,
   "metadata": {},
   "outputs": [
    {
     "ename": "AttributeError",
     "evalue": "'list' object has no attribute 'cpu'",
     "output_type": "error",
     "traceback": [
      "\u001b[0;31m---------------------------------------------------------------------------\u001b[0m",
      "\u001b[0;31mAttributeError\u001b[0m                            Traceback (most recent call last)",
      "Cell \u001b[0;32mIn[18], line 2\u001b[0m\n\u001b[1;32m      1\u001b[0m cam \u001b[38;5;241m=\u001b[39m EigenCAM(model, target_layers)\n\u001b[0;32m----> 2\u001b[0m grayscale_cam \u001b[38;5;241m=\u001b[39m \u001b[43mcam\u001b[49m\u001b[43m(\u001b[49m\u001b[43mtensor\u001b[49m\u001b[43m)\u001b[49m[\u001b[38;5;241m0\u001b[39m, :, :]\n\u001b[1;32m      3\u001b[0m cam_image \u001b[38;5;241m=\u001b[39m show_cam_on_image(img, grayscale_cam, use_rgb\u001b[38;5;241m=\u001b[39m\u001b[38;5;28;01mTrue\u001b[39;00m)\n\u001b[1;32m      4\u001b[0m Image\u001b[38;5;241m.\u001b[39mfromarray(cam_image)\n",
      "File \u001b[0;32m~/anaconda3/envs/DL/lib/python3.11/site-packages/pytorch_grad_cam/base_cam.py:186\u001b[0m, in \u001b[0;36mBaseCAM.__call__\u001b[0;34m(self, input_tensor, targets, aug_smooth, eigen_smooth)\u001b[0m\n\u001b[1;32m    183\u001b[0m \u001b[38;5;28;01mif\u001b[39;00m aug_smooth \u001b[38;5;129;01mis\u001b[39;00m \u001b[38;5;28;01mTrue\u001b[39;00m:\n\u001b[1;32m    184\u001b[0m     \u001b[38;5;28;01mreturn\u001b[39;00m \u001b[38;5;28mself\u001b[39m\u001b[38;5;241m.\u001b[39mforward_augmentation_smoothing(input_tensor, targets, eigen_smooth)\n\u001b[0;32m--> 186\u001b[0m \u001b[38;5;28;01mreturn\u001b[39;00m \u001b[38;5;28;43mself\u001b[39;49m\u001b[38;5;241;43m.\u001b[39;49m\u001b[43mforward\u001b[49m\u001b[43m(\u001b[49m\u001b[43minput_tensor\u001b[49m\u001b[43m,\u001b[49m\u001b[43m \u001b[49m\u001b[43mtargets\u001b[49m\u001b[43m,\u001b[49m\u001b[43m \u001b[49m\u001b[43meigen_smooth\u001b[49m\u001b[43m)\u001b[49m\n",
      "File \u001b[0;32m~/anaconda3/envs/DL/lib/python3.11/site-packages/pytorch_grad_cam/base_cam.py:93\u001b[0m, in \u001b[0;36mBaseCAM.forward\u001b[0;34m(self, input_tensor, targets, eigen_smooth)\u001b[0m\n\u001b[1;32m     90\u001b[0m \u001b[38;5;28mself\u001b[39m\u001b[38;5;241m.\u001b[39moutputs \u001b[38;5;241m=\u001b[39m outputs \u001b[38;5;241m=\u001b[39m \u001b[38;5;28mself\u001b[39m\u001b[38;5;241m.\u001b[39mactivations_and_grads(input_tensor)\n\u001b[1;32m     92\u001b[0m \u001b[38;5;28;01mif\u001b[39;00m targets \u001b[38;5;129;01mis\u001b[39;00m \u001b[38;5;28;01mNone\u001b[39;00m:\n\u001b[0;32m---> 93\u001b[0m     target_categories \u001b[38;5;241m=\u001b[39m np\u001b[38;5;241m.\u001b[39margmax(\u001b[43moutputs\u001b[49m\u001b[38;5;241;43m.\u001b[39;49m\u001b[43mcpu\u001b[49m()\u001b[38;5;241m.\u001b[39mdata\u001b[38;5;241m.\u001b[39mnumpy(), axis\u001b[38;5;241m=\u001b[39m\u001b[38;5;241m-\u001b[39m\u001b[38;5;241m1\u001b[39m)\n\u001b[1;32m     94\u001b[0m     targets \u001b[38;5;241m=\u001b[39m [ClassifierOutputTarget(category) \u001b[38;5;28;01mfor\u001b[39;00m category \u001b[38;5;129;01min\u001b[39;00m target_categories]\n\u001b[1;32m     96\u001b[0m \u001b[38;5;28;01mif\u001b[39;00m \u001b[38;5;28mself\u001b[39m\u001b[38;5;241m.\u001b[39muses_gradients:\n",
      "\u001b[0;31mAttributeError\u001b[0m: 'list' object has no attribute 'cpu'"
     ]
    }
   ],
   "source": [
    "cam = EigenCAM(model, target_layers)\n",
    "grayscale_cam = cam(tensor)[0, :, :]\n",
    "cam_image = show_cam_on_image(img, grayscale_cam, use_rgb=True)\n",
    "Image.fromarray(cam_image)"
   ]
  },
  {
   "cell_type": "code",
   "execution_count": null,
   "metadata": {},
   "outputs": [],
   "source": []
  }
 ],
 "metadata": {
  "kernelspec": {
   "display_name": "DL",
   "language": "python",
   "name": "python3"
  },
  "language_info": {
   "codemirror_mode": {
    "name": "ipython",
    "version": 3
   },
   "file_extension": ".py",
   "mimetype": "text/x-python",
   "name": "python",
   "nbconvert_exporter": "python",
   "pygments_lexer": "ipython3",
   "version": "3.11.0"
  }
 },
 "nbformat": 4,
 "nbformat_minor": 2
}
